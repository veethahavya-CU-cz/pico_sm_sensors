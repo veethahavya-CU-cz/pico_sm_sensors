{
 "cells": [
  {
   "cell_type": "code",
   "execution_count": 44,
   "metadata": {},
   "outputs": [],
   "source": [
    "def get_next_record_time(current_time, interval, mode='unix_epoch'):\n",
    "    def is_leap_year(year):\n",
    "        return (year % 4 == 0 and year % 100 != 0) or (year % 400 == 0)\n",
    "\n",
    "    def days_in_month(year, month):\n",
    "        if month in [1, 3, 5, 7, 8, 10, 12]:\n",
    "            return 31\n",
    "        elif month in [4, 6, 9, 11]:\n",
    "            return 30\n",
    "        elif month == 2:\n",
    "            return 29 if is_leap_year(year) else 28\n",
    "        return 0\n",
    "    \n",
    "    if mode == 'time_tuple':\n",
    "        year, month, day, hour, minute, second, DoW, pr = current_time\n",
    "\n",
    "        total_seconds = hour * 3600 + minute * 60 + second\n",
    "        next_interval_seconds = ((total_seconds // interval) + 1) * interval\n",
    "\n",
    "        days_added = next_interval_seconds // (24 * 3600)\n",
    "        next_interval_seconds %= 24 * 3600\n",
    "\n",
    "        next_hour = next_interval_seconds // 3600\n",
    "        next_interval_seconds %= 3600\n",
    "        next_minute = next_interval_seconds // 60\n",
    "        next_second = next_interval_seconds % 60\n",
    "\n",
    "        day += days_added\n",
    "        while day > days_in_month(year, month):\n",
    "            day -= days_in_month(year, month)\n",
    "            month += 1\n",
    "            if month > 12:\n",
    "                month = 1\n",
    "                year += 1\n",
    "\n",
    "        return (year, month, day, next_hour, next_minute, next_second, DoW, pr)\n",
    "\n",
    "    elif mode == 'unix_epoch':\n",
    "        next_time = ((current_time // interval) + 1) * interval\n",
    "        return next_time\n",
    "    else:\n",
    "        raise ValueError('Invalid mode')"
   ]
  },
  {
   "cell_type": "code",
   "execution_count": 13,
   "metadata": {},
   "outputs": [],
   "source": [
    "from datetime import datetime"
   ]
  },
  {
   "cell_type": "code",
   "execution_count": 64,
   "metadata": {},
   "outputs": [
    {
     "data": {
      "text/plain": [
       "(2024, 7, 6, 22, 30, 0, 1, None)"
      ]
     },
     "execution_count": 64,
     "metadata": {},
     "output_type": "execute_result"
    }
   ],
   "source": [
    "get_next_record_time((2024, 7, 6, 22, 29, 4, 1, None), 60*30, mode='time_tuple')"
   ]
  }
 ],
 "metadata": {
  "kernelspec": {
   "display_name": "Python 3",
   "language": "python",
   "name": "python3"
  },
  "language_info": {
   "codemirror_mode": {
    "name": "ipython",
    "version": 3
   },
   "file_extension": ".py",
   "mimetype": "text/x-python",
   "name": "python",
   "nbconvert_exporter": "python",
   "pygments_lexer": "ipython3",
   "version": "3.10.14"
  }
 },
 "nbformat": 4,
 "nbformat_minor": 2
}
